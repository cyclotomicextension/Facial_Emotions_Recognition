{
  "nbformat": 4,
  "nbformat_minor": 0,
  "metadata": {
    "colab": {
      "provenance": []
    },
    "kernelspec": {
      "name": "python3",
      "display_name": "Python 3"
    },
    "language_info": {
      "name": "python"
    },
    "accelerator": "GPU",
    "gpuClass": "standard"
  },
  "cells": [
    {
      "cell_type": "code",
      "execution_count": 26,
      "metadata": {
        "colab": {
          "base_uri": "https://localhost:8080/"
        },
        "id": "Ksk8YiljbcJn",
        "outputId": "accfa61c-d5e7-4142-96b3-d3e31600c5e1"
      },
      "outputs": [
        {
          "output_type": "stream",
          "name": "stdout",
          "text": [
            "fatal: destination path 'facial_expressions' already exists and is not an empty directory.\n"
          ]
        }
      ],
      "source": [
        "!git clone https://github.com/muxspace/facial_expressions.git"
      ]
    },
    {
      "cell_type": "markdown",
      "source": [
        "We want to recognise the facial emotions related to the images in the github repository. For this, we shall use CNN, as this is a supervised learning task."
      ],
      "metadata": {
        "id": "axhdShiZb_PA"
      }
    },
    {
      "cell_type": "code",
      "source": [
        "#We shall create a dictionary \"data\" of expression names and their concerned expression\n",
        "import csv\n",
        "data={}\n",
        "with open('/content/facial_expressions/data/legend.csv') as f:\n",
        "  reader=csv.reader(f)\n",
        "  next(reader)\n",
        "  for row in reader:\n",
        "    key=row[2].lower() #so no expressions are in uppercase\n",
        "    if key in data:\n",
        "      #We are saying that if key is already in data, then append it to its respective expression\n",
        "      data[key].append(row[1])\n",
        "    else:\n",
        "      #If key is not there, then add it wrt to the expression in the rows of expressions.\n",
        "      data[key]=[row[1]]"
      ],
      "metadata": {
        "id": "VeO-8c8Sb9r0"
      },
      "execution_count": 27,
      "outputs": []
    },
    {
      "cell_type": "code",
      "source": [
        "emotion_list=list(data.keys())\n",
        "emotion_list"
      ],
      "metadata": {
        "colab": {
          "base_uri": "https://localhost:8080/"
        },
        "id": "WT3px1FhdnFM",
        "outputId": "5577253d-3f7d-481a-d5e1-4e11c384262d"
      },
      "execution_count": 28,
      "outputs": [
        {
          "output_type": "execute_result",
          "data": {
            "text/plain": [
              "['anger',\n",
              " 'surprise',\n",
              " 'disgust',\n",
              " 'fear',\n",
              " 'neutral',\n",
              " 'happiness',\n",
              " 'sadness',\n",
              " 'contempt']"
            ]
          },
          "metadata": {},
          "execution_count": 28
        }
      ]
    },
    {
      "cell_type": "code",
      "source": [
        "#We shall now make training and testing directories:\n",
        "import os\n",
        "os.mkdir('masterr_data')\n",
        "os.mkdir('masterr_data/training')\n",
        "os.mkdir('masterr_data/testing')\n"
      ],
      "metadata": {
        "id": "W0T5FOuleCLm"
      },
      "execution_count": 33,
      "outputs": []
    },
    {
      "cell_type": "code",
      "source": [
        "for emotion in emotion_list:\n",
        "  os.mkdir(os.path.join('masterr_data/training', emotion))\n",
        "  os.mkdir(os.path.join('masterr_data/testing', emotion))"
      ],
      "metadata": {
        "id": "ffFQ2SHkl5GW"
      },
      "execution_count": 34,
      "outputs": []
    },
    {
      "cell_type": "code",
      "source": [
        "#We shall now make 8 different directory for 8 different emotions\n",
        "from shutil import copyfile\n",
        "split_size=0.8\n",
        "\n",
        "for emotion, images in data.items():\n",
        "  train_size=int(split_size*len(images))\n",
        "  train_images=images[:train_size]\n",
        "  test_images=images[train_size:]\n",
        "  for image in train_images:\n",
        "    source=os.path.join('/content/facial_expressions/images', image)\n",
        "    destination=os.path.join('/content/masterr_data/training',emotion, image)\n",
        "    copyfile(source, destination)\n",
        "  for image in test_images:\n",
        "    source=os.path.join('/content/facial_expressions/images', image)\n",
        "    destination=os.path.join('/content/masterr_data/testing',emotion, image)\n",
        "    copyfile(source, destination)"
      ],
      "metadata": {
        "id": "UbOAFSrfecS9"
      },
      "execution_count": 37,
      "outputs": []
    },
    {
      "cell_type": "code",
      "source": [
        "import tensorflow as tf\n",
        "from tensorflow.keras.preprocessing.image import ImageDataGenerator\n",
        "from tensorflow.keras.optimizers import Adam\n",
        "from tensorflow.keras.callbacks import EarlyStopping\n",
        "from tensorflow.keras.layers import Conv2D, Dense, MaxPooling2D, Flatten"
      ],
      "metadata": {
        "id": "Umx-taRehdO4"
      },
      "execution_count": 38,
      "outputs": []
    },
    {
      "cell_type": "code",
      "source": [
        "model=tf.keras.Sequential([\n",
        "    Conv2D(16,(3,3), activation=\"relu\", input_shape=(100,100,3)),\n",
        "    MaxPooling2D(2,2),\n",
        "    Conv2D(32,(3,3), activation=\"relu\"),\n",
        "    MaxPooling2D(2,2),\n",
        "    Flatten(),\n",
        "    Dense(512,activation=\"relu\"),\n",
        "    Dense(8,activation=\"softmax\")\n",
        "])\n",
        "model.compile(optimizer=Adam(lr=0.001), loss='categorical_crossentropy', metrics=['acc'])"
      ],
      "metadata": {
        "colab": {
          "base_uri": "https://localhost:8080/"
        },
        "id": "RZs-QKAXiKrY",
        "outputId": "5b92c143-b412-4332-9ad5-4b5c20aed9f1"
      },
      "execution_count": 39,
      "outputs": [
        {
          "output_type": "stream",
          "name": "stderr",
          "text": [
            "/usr/local/lib/python3.8/dist-packages/keras/optimizers/optimizer_v2/adam.py:110: UserWarning: The `lr` argument is deprecated, use `learning_rate` instead.\n",
            "  super(Adam, self).__init__(name, **kwargs)\n"
          ]
        }
      ]
    },
    {
      "cell_type": "code",
      "source": [
        "train_dir='/content/masterr_data/training'\n",
        "test_dir='/content/masterr_data/testing'\n",
        "train_datagen=ImageDataGenerator(rescale=1.0/255)\n",
        "train_generator=train_datagen.flow_from_directory(\n",
        "    train_dir, \n",
        "    target_size=(100,100),\n",
        "    class_mode='categorical',\n",
        "    batch_size=128\n",
        ")\n",
        "test_datagen=ImageDataGenerator(rescale=1.0/255)\n",
        "test_generator=test_datagen.flow_from_directory(\n",
        "    test_dir, \n",
        "    target_size=(100,100),\n",
        "    class_mode='categorical',\n",
        "    batch_size=128\n",
        ")"
      ],
      "metadata": {
        "colab": {
          "base_uri": "https://localhost:8080/"
        },
        "id": "FKLJbeHUjQ8V",
        "outputId": "5bae599b-11d9-4737-b438-dd9514b0d4c2"
      },
      "execution_count": 40,
      "outputs": [
        {
          "output_type": "stream",
          "name": "stdout",
          "text": [
            "Found 10941 images belonging to 8 classes.\n",
            "Found 2742 images belonging to 8 classes.\n"
          ]
        }
      ]
    },
    {
      "cell_type": "code",
      "source": [
        "es=EarlyStopping(monitor='val_acc', patience=2, min_delta=0.01)"
      ],
      "metadata": {
        "id": "jwzxaveVj5LN"
      },
      "execution_count": 41,
      "outputs": []
    },
    {
      "cell_type": "code",
      "source": [
        "model.fit_generator(train_generator,\n",
        "                    epochs=10,\n",
        "                    verbose=1,\n",
        "                    validation_data=test_generator,\n",
        "                    callbacks=[es]\n",
        ")"
      ],
      "metadata": {
        "colab": {
          "base_uri": "https://localhost:8080/"
        },
        "id": "bvxiQRfkkCz5",
        "outputId": "57abab1f-99db-4fb6-8f90-c6447140f803"
      },
      "execution_count": 42,
      "outputs": [
        {
          "output_type": "stream",
          "name": "stderr",
          "text": [
            "<ipython-input-42-f5bdca6f15c7>:1: UserWarning: `Model.fit_generator` is deprecated and will be removed in a future version. Please use `Model.fit`, which supports generators.\n",
            "  model.fit_generator(train_generator,\n"
          ]
        },
        {
          "output_type": "stream",
          "name": "stdout",
          "text": [
            "Epoch 1/10\n",
            "86/86 [==============================] - 25s 182ms/step - loss: 1.1266 - acc: 0.5817 - val_loss: 1.5106 - val_acc: 0.6120\n",
            "Epoch 2/10\n",
            "86/86 [==============================] - 15s 177ms/step - loss: 0.6136 - acc: 0.7930 - val_loss: 1.7247 - val_acc: 0.6495\n",
            "Epoch 3/10\n",
            "86/86 [==============================] - 16s 185ms/step - loss: 0.5073 - acc: 0.8221 - val_loss: 1.2186 - val_acc: 0.6630\n",
            "Epoch 4/10\n",
            "86/86 [==============================] - 15s 177ms/step - loss: 0.4443 - acc: 0.8393 - val_loss: 1.8273 - val_acc: 0.6652\n",
            "Epoch 5/10\n",
            "86/86 [==============================] - 15s 175ms/step - loss: 0.3841 - acc: 0.8626 - val_loss: 1.8913 - val_acc: 0.6678\n"
          ]
        },
        {
          "output_type": "execute_result",
          "data": {
            "text/plain": [
              "<keras.callbacks.History at 0x7f6a9e5135e0>"
            ]
          },
          "metadata": {},
          "execution_count": 42
        }
      ]
    }
  ]
}